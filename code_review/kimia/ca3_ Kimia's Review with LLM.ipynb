{
 "cells": [
  {
   "cell_type": "markdown",
   "metadata": {},
   "source": [
    "# Homework 3 - Reviewd by Kimia Ramezan_ Using LLM\n",
    "\n",
    "## So in this notebook I have reviewd the codes using LLM.\n",
    "\n",
    " The notebook satisfies the assignment requirements and implements all requested variants (loop, list, set, dict, NumPy, indexing, and paired sums). To polish it, I recommend (1) explicitly documenting whether each function returns π/4 or π and keeping labels consistent; (2) replacing (-1)**k with a simple sign toggle or modulus trick for speed and clarity; (3) using generators (and math.fsum) to reduce memory and improve numerical stability; (4) standardizing timing into a small table and declaring a clear winner for speed/clarity/accuracy as required by Problem 3; and (5) making the error plot compact with precise axis labels on log–log scales as suggested in the spec. With these light edits, the submission becomes cleaner, faster, and easier to grade while staying faithful to the rubric."
   ]
  },
  {
   "cell_type": "markdown",
   "metadata": {},
   "source": [
    "## Question 1"
   ]
  },
  {
   "cell_type": "code",
   "execution_count": 2,
   "metadata": {},
   "outputs": [],
   "source": [
    "def leibniz_pi(n):\n",
    "    \"\"\"\n",
    "    Compute the sum of the first n terms of the Leibniz formula for π/4.\n",
    "    \n",
    "    Parameters:\n",
    "        n (int): Number of terms to include in the series.\n",
    "        \n",
    "    Returns:\n",
    "        float: Approximation of π/4 using n terms of the series.\n",
    "    \"\"\"\n",
    "    total = 0.0\n",
    "    for k in range(n):\n",
    "        total += (-1)**k / (2*k + 1)\n",
    "    return total\n"
   ]
  },
  {
   "cell_type": "markdown",
   "metadata": {},
   "source": [
    "### Improved version by LLM:"
   ]
  },
  {
   "cell_type": "code",
   "execution_count": 3,
   "metadata": {},
   "outputs": [],
   "source": [
    "def leibniz_pi(n: int) -> float:\n",
    "    \"\"\"\n",
    "    Approximate π/4 using the first n terms of the Leibniz series.\n",
    "\n",
    "    Parameters\n",
    "    ----------\n",
    "    n : int\n",
    "        Number of terms to include in the series.\n",
    "\n",
    "    Returns\n",
    "    -------\n",
    "    float\n",
    "        Approximation of π/4 using n terms.\n",
    "    \"\"\"\n",
    "    if n <= 0:\n",
    "        return 0.0\n",
    "\n",
    "    total, sign = 0.0, 1.0\n",
    "    for k in range(n):\n",
    "        total += sign / (2*k + 1)\n",
    "        sign = -sign\n",
    "    return total\n"
   ]
  },
  {
   "cell_type": "markdown",
   "metadata": {},
   "source": [
    "The LLM suggests replacing (-1)**k with a simple sign toggle for better efficiency and readability, adding an explicit check for n <= 0, and clarifying in the docstring that the function returns an approximation of π/4 rather than π. It says that yhese small changes make the code clearer, faster, and more robust."
   ]
  },
  {
   "cell_type": "code",
   "execution_count": 4,
   "metadata": {},
   "outputs": [
    {
     "name": "stdout",
     "output_type": "stream",
     "text": [
      "sum of the first 1000 terms: 0.7851481634599485\n",
      "Approximation of π: 3.140592653839794\n"
     ]
    }
   ],
   "source": [
    "# Compute π approximation with 1,000,000 terms\n",
    "n = 1000\n",
    "approx_pi = leibniz_pi(n)\n",
    "print(f\"sum of the first {n} terms: {approx_pi}\")\n",
    "print(f\"Approximation of π: {4 * approx_pi}\")"
   ]
  },
  {
   "cell_type": "markdown",
   "metadata": {},
   "source": [
    "## Question 2"
   ]
  },
  {
   "cell_type": "markdown",
   "metadata": {},
   "source": [
    "### Part A"
   ]
  },
  {
   "cell_type": "code",
   "execution_count": 5,
   "metadata": {},
   "outputs": [],
   "source": [
    "def leibniz_pi_mod(n):\n",
    "    \"\"\"\n",
    "    Compute the sum of the first n terms of the Leibniz formula for π/4\n",
    "    using a for-loop and an if-statement with the modulo operator.\n",
    "    \n",
    "    Parameters:\n",
    "        n (int): Number of terms to include in the series.\n",
    "        \n",
    "    Returns:\n",
    "        float: Approximation of π/4 using n terms.\n",
    "    \"\"\"\n",
    "    total = 0.0\n",
    "    for k in range(n):\n",
    "        term = 1 / (2*k + 1)\n",
    "        if k % 2 == 0:   # even index -> add\n",
    "            total += term\n",
    "        else:            # odd index -> subtract\n",
    "            total -= term\n",
    "    return total\n"
   ]
  },
  {
   "cell_type": "markdown",
   "metadata": {},
   "source": [
    "### LLM suggestion:"
   ]
  },
  {
   "cell_type": "code",
   "execution_count": 6,
   "metadata": {},
   "outputs": [],
   "source": [
    "def leibniz_pi_mod(n: int) -> float:\n",
    "    \"\"\"\n",
    "    Approximate π/4 using the first n terms of the Leibniz series,\n",
    "    implemented with a for-loop and modulo operator.\n",
    "\n",
    "    Parameters\n",
    "    ----------\n",
    "    n : int\n",
    "        Number of terms to include in the series.\n",
    "\n",
    "    Returns\n",
    "    -------\n",
    "    float\n",
    "        Approximation of π/4 using n terms.\n",
    "    \"\"\"\n",
    "    if n <= 0:\n",
    "        return 0.0\n",
    "\n",
    "    total = 0.0\n",
    "    for k in range(n):\n",
    "        term = 1.0 / (2*k + 1)\n",
    "        total += term if k % 2 == 0 else -term\n",
    "    return total\n"
   ]
  },
  {
   "cell_type": "markdown",
   "metadata": {},
   "source": [
    "The LLM suggests adding an explicit check for n <= 0 and simplifying the if/else into a single line using a conditional expression. it believes that makes the code more concise, robust, and slightly clearer without changing its logic."
   ]
  },
  {
   "cell_type": "code",
   "execution_count": 7,
   "metadata": {},
   "outputs": [
    {
     "name": "stdout",
     "output_type": "stream",
     "text": [
      "Sum of first 1000 terms (π/4 approximation): 0.7851481634599485\n",
      "Approximation of π: 3.140592653839794\n"
     ]
    }
   ],
   "source": [
    "n = 1000\n",
    "result = leibniz_pi_mod(n)\n",
    "print(f\"Sum of first {n} terms (π/4 approximation): {result}\")\n",
    "print(f\"Approximation of π: {4 * result}\")"
   ]
  },
  {
   "cell_type": "markdown",
   "metadata": {},
   "source": [
    "### Part B"
   ]
  },
  {
   "cell_type": "code",
   "execution_count": 8,
   "metadata": {},
   "outputs": [],
   "source": [
    "def leibniz_pi_pow(n):\n",
    "    \"\"\"\n",
    "    Compute the sum of the first n terms of the Leibniz formula for π/4\n",
    "    using a for-loop and (-1)**k to determine the sign of each term.\n",
    "    \n",
    "    Parameters:\n",
    "        n (int): Number of terms to include in the series.\n",
    "        \n",
    "    Returns:\n",
    "        float: Approximation of π/4 using n terms.\n",
    "    \"\"\"\n",
    "    total = 0.0\n",
    "    for k in range(n):\n",
    "        total += ((-1) ** k) / (2*k + 1)\n",
    "    return total\n"
   ]
  },
  {
   "cell_type": "markdown",
   "metadata": {},
   "source": [
    "### LLM Suggested Code:"
   ]
  },
  {
   "cell_type": "code",
   "execution_count": 9,
   "metadata": {},
   "outputs": [],
   "source": [
    "def leibniz_pi_pow(n: int) -> float:\n",
    "    \"\"\"\n",
    "    Approximate π/4 using the first n terms of the Leibniz series,\n",
    "    implemented with a for-loop and sign toggling instead of exponentiation.\n",
    "\n",
    "    Parameters\n",
    "    ----------\n",
    "    n : int\n",
    "        Number of terms to include in the series.\n",
    "\n",
    "    Returns\n",
    "    -------\n",
    "    float\n",
    "        Approximation of π/4 using n terms.\n",
    "    \"\"\"\n",
    "    if n <= 0:\n",
    "        return 0.0\n",
    "\n",
    "    total, sign = 0.0, 1.0\n",
    "    for k in range(n):\n",
    "        total += sign / (2*k + 1)\n",
    "        sign = -sign   # flip sign instead of (-1)**k\n",
    "    return total\n"
   ]
  },
  {
   "cell_type": "markdown",
   "metadata": {},
   "source": [
    "The LLM recommended replacing (-1)**k with a simple sign toggle variable for efficiency and readability, and adding an explicit guard for n <= 0. This avoids unnecessary exponentiation in each iteration and makes the alternating sign behavior clearer."
   ]
  },
  {
   "cell_type": "code",
   "execution_count": 10,
   "metadata": {},
   "outputs": [
    {
     "name": "stdout",
     "output_type": "stream",
     "text": [
      "Sum of first 1000 terms (π/4 approximation): 0.7851481634599485\n",
      "Approximation of π: 3.140592653839794\n"
     ]
    }
   ],
   "source": [
    "n = 1000\n",
    "result = leibniz_pi_pow(n)\n",
    "print(f\"Sum of first {n} terms (π/4 approximation): {result}\")\n",
    "print(f\"Approximation of π: {4 * result}\")\n"
   ]
  },
  {
   "cell_type": "markdown",
   "metadata": {},
   "source": [
    "### Part C "
   ]
  },
  {
   "cell_type": "code",
   "execution_count": 11,
   "metadata": {},
   "outputs": [],
   "source": [
    "def leibniz_pi_list(n):\n",
    "    \"\"\"\n",
    "    Compute the sum of the first n terms of the Leibniz formula for π/4\n",
    "    by constructing a Python list and summing it.\n",
    "    \n",
    "    Parameters:\n",
    "        n (int): Number of terms to include in the series.\n",
    "        \n",
    "    Returns:\n",
    "        float: Approximation of π/4 using n terms.\n",
    "    \"\"\"\n",
    "    terms = [((-1) ** k) / (2*k + 1) for k in range(n)]\n",
    "    return sum(terms)\n"
   ]
  },
  {
   "cell_type": "markdown",
   "metadata": {},
   "source": [
    "### LLM Suggestion:"
   ]
  },
  {
   "cell_type": "code",
   "execution_count": 12,
   "metadata": {},
   "outputs": [],
   "source": [
    "def leibniz_pi_list(n: int) -> float:\n",
    "    \"\"\"\n",
    "    Approximate π/4 using the first n terms of the Leibniz series,\n",
    "    implemented with a Python list comprehension.\n",
    "\n",
    "    Parameters\n",
    "    ----------\n",
    "    n : int\n",
    "        Number of terms to include in the series.\n",
    "\n",
    "    Returns\n",
    "    -------\n",
    "    float\n",
    "        Approximation of π/4 using n terms.\n",
    "    \"\"\"\n",
    "    if n <= 0:\n",
    "        return 0.0\n",
    "\n",
    "    # Use generator instead of full list to save memory\n",
    "    return sum((1 if k % 2 == 0 else -1) / (2*k + 1) for k in range(n))\n"
   ]
  },
  {
   "cell_type": "markdown",
   "metadata": {},
   "source": [
    "The LLM suggests replacing the list with a generator to avoid unnecessary memory use and using a simple sign check instead of (-1)**k for efficiency. This keeps the code cleaner, faster, and more memory-friendly while preserving correctness."
   ]
  },
  {
   "cell_type": "code",
   "execution_count": 13,
   "metadata": {},
   "outputs": [
    {
     "name": "stdout",
     "output_type": "stream",
     "text": [
      "Sum of first 1000 terms (π/4 approximation): 0.7851481634599483\n",
      "Approximation of π: 3.1405926538397932\n"
     ]
    }
   ],
   "source": [
    "n = 1000\n",
    "result = leibniz_pi_list(n)\n",
    "print(f\"Sum of first {n} terms (π/4 approximation): {result}\")\n",
    "print(f\"Approximation of π: {4 * result}\")\n"
   ]
  },
  {
   "cell_type": "markdown",
   "metadata": {},
   "source": [
    "### Part D "
   ]
  },
  {
   "cell_type": "code",
   "execution_count": 14,
   "metadata": {},
   "outputs": [],
   "source": [
    "def leibniz_pi_set(n):\n",
    "    \"\"\"\n",
    "    Compute the sum of the first n terms of the Leibniz formula for π/4\n",
    "    by constructing a Python set and summing it.\n",
    "    \n",
    "    Parameters:\n",
    "        n (int): Number of terms to include in the series.\n",
    "        \n",
    "    Returns:\n",
    "        float: Approximation of π/4 using n terms.\n",
    "    \"\"\"\n",
    "    terms = {((-1) ** k) / (2*k + 1) for k in range(n)}\n",
    "    return sum(terms)\n"
   ]
  },
  {
   "cell_type": "markdown",
   "metadata": {},
   "source": [
    "### LLM Suggestion:"
   ]
  },
  {
   "cell_type": "code",
   "execution_count": 15,
   "metadata": {},
   "outputs": [],
   "source": [
    "def leibniz_pi_set(n: int) -> float:\n",
    "    \"\"\"\n",
    "    Approximate π/4 using the first n terms of the Leibniz series,\n",
    "    implemented with a Python set.\n",
    "\n",
    "    Parameters\n",
    "    ----------\n",
    "    n : int\n",
    "        Number of terms to include in the series.\n",
    "\n",
    "    Returns\n",
    "    -------\n",
    "    float\n",
    "        Approximation of π/4 using n terms.\n",
    "    \"\"\"\n",
    "    if n <= 0:\n",
    "        return 0.0\n",
    "\n",
    "    # Note: sets are unordered and deduplicate values, so this is less stable\n",
    "    terms = {(1 if k % 2 == 0 else -1) / (2*k + 1) for k in range(n)}\n",
    "    return sum(terms)\n"
   ]
  },
  {
   "cell_type": "markdown",
   "metadata": {},
   "source": [
    "The LLM recommended adding a note that sets are unordered and may deduplicate equal values, which can slightly affect floating-point results. Replacing (-1)**k with a sign check also improves clarity and performance."
   ]
  },
  {
   "cell_type": "code",
   "execution_count": 16,
   "metadata": {},
   "outputs": [
    {
     "name": "stdout",
     "output_type": "stream",
     "text": [
      "Sum of first 1000 terms (π/4 approximation): 0.7851481634599483\n",
      "Approximation of π: 3.1405926538397932\n"
     ]
    }
   ],
   "source": [
    "n = 1000\n",
    "result = leibniz_pi_set(n)\n",
    "print(f\"Sum of first {n} terms (π/4 approximation): {result}\")\n",
    "print(f\"Approximation of π: {4 * result}\")\n"
   ]
  },
  {
   "cell_type": "markdown",
   "metadata": {},
   "source": [
    "### Part E "
   ]
  },
  {
   "cell_type": "code",
   "execution_count": 17,
   "metadata": {},
   "outputs": [],
   "source": [
    "def leibniz_pi_dict(n):\n",
    "    \"\"\"\n",
    "    Compute the sum of the first n terms of the Leibniz formula for π/4\n",
    "    by constructing a Python dictionary and summing its values.\n",
    "    \n",
    "    Parameters:\n",
    "        n (int): Number of terms to include in the series.\n",
    "        \n",
    "    Returns:\n",
    "        float: Approximation of π/4 using n terms.\n",
    "    \"\"\"\n",
    "    terms = {k: ((-1) ** k) / (2*k + 1) for k in range(n)}\n",
    "    return sum(terms.values())\n"
   ]
  },
  {
   "cell_type": "markdown",
   "metadata": {},
   "source": [
    "### LLM Suggestion:"
   ]
  },
  {
   "cell_type": "code",
   "execution_count": 18,
   "metadata": {},
   "outputs": [],
   "source": [
    "def leibniz_pi_dict(n: int) -> float:\n",
    "    \"\"\"\n",
    "    Approximate π/4 using the first n terms of the Leibniz series,\n",
    "    implemented with a Python dictionary.\n",
    "    \"\"\"\n",
    "    if n <= 0:\n",
    "        return 0.0\n",
    "    terms = {k: (1 if k % 2 == 0 else -1) / (2*k + 1) for k in range(n)}\n",
    "    return sum(terms.values())\n"
   ]
  },
  {
   "cell_type": "markdown",
   "metadata": {},
   "source": [
    "LLM Explanation :\n",
    "This implementation uses a Python dictionary to store each term of the Leibniz series before summing the values. While it produces correct results, it is less efficient than list or generator versions because dictionaries carry extra overhead and the keys are never actually used. The function demonstrates an alternative way to structure the series, but in practice, simpler data structures are preferred."
   ]
  },
  {
   "cell_type": "code",
   "execution_count": 19,
   "metadata": {},
   "outputs": [
    {
     "name": "stdout",
     "output_type": "stream",
     "text": [
      "Sum of first 1000 terms (π/4 approximation): 0.7851481634599483\n",
      "Approximation of π: 3.1405926538397932\n"
     ]
    }
   ],
   "source": [
    "n = 1000\n",
    "result = leibniz_pi_dict(n)\n",
    "print(f\"Sum of first {n} terms (π/4 approximation): {result}\")\n",
    "print(f\"Approximation of π: {4 * result}\")\n"
   ]
  },
  {
   "cell_type": "markdown",
   "metadata": {},
   "source": [
    "### Part F "
   ]
  },
  {
   "cell_type": "code",
   "execution_count": 20,
   "metadata": {},
   "outputs": [],
   "source": [
    "import numpy as np\n",
    "\n",
    "def leibniz_pi_numpy(n):\n",
    "    \"\"\"\n",
    "    Compute the sum of the first n terms of the Leibniz formula for π/4\n",
    "    using a NumPy array.\n",
    "    \n",
    "    Parameters:\n",
    "        n (int): Number of terms to include in the series.\n",
    "        \n",
    "    Returns:\n",
    "        float: Approximation of π/4 using n terms.\n",
    "    \"\"\"\n",
    "    k = np.arange(n)                         # array [0, 1, 2, ..., n-1]\n",
    "    terms = ((-1) ** k) / (2*k + 1)          # vectorized computation\n",
    "    return np.sum(terms)\n"
   ]
  },
  {
   "cell_type": "markdown",
   "metadata": {},
   "source": [
    "### LLM Suggestion :"
   ]
  },
  {
   "cell_type": "code",
   "execution_count": null,
   "metadata": {},
   "outputs": [],
   "source": [
    "import numpy as np\n",
    "\n",
    "def leibniz_pi_numpy(n: int) -> float:\n",
    "    \"\"\"\n",
    "    Approximate π/4 using the first n terms of the Leibniz series\n",
    "    with NumPy vectorization.\n",
    "    \"\"\"\n",
    "    if n <= 0:\n",
    "        return 0.0\n",
    "    k = np.arange(n, dtype=np.int64)\n",
    "    terms = (1 - 2*(k % 2)) / (2.0*k + 1.0)   # avoid (-1)**k\n",
    "    return np.add.reduce(terms)\n"
   ]
  },
  {
   "cell_type": "markdown",
   "metadata": {},
   "source": [
    "LLM Discription :\n",
    "This implementation leverages NumPy arrays to compute the Leibniz series in a fully vectorized manner, making it much faster than pure Python loops for large n. The entire sequence of terms is built as an array, and then summed efficiently using NumPy’s optimized routines. While correct and efficient, avoiding (-1)**k in favor of a simple sign trick (1 - 2*(k % 2)) improves speed and clarity. This version is one of the most practical for handling very large numbers of terms."
   ]
  },
  {
   "cell_type": "code",
   "execution_count": 29,
   "metadata": {},
   "outputs": [
    {
     "name": "stdout",
     "output_type": "stream",
     "text": [
      "Sum of first 1000 terms (π/4 approximation): 0.785148163459948\n",
      "Approximation of π: 3.140592653839792\n"
     ]
    }
   ],
   "source": [
    "n = 1000\n",
    "result = leibniz_pi_numpy(n)\n",
    "print(f\"Sum of first {n} terms (π/4 approximation): {result}\")\n",
    "print(f\"Approximation of π: {4 * result}\")\n"
   ]
  },
  {
   "cell_type": "markdown",
   "metadata": {},
   "source": [
    "### Part G "
   ]
  },
  {
   "cell_type": "code",
   "execution_count": 22,
   "metadata": {},
   "outputs": [],
   "source": [
    "import numpy as np\n",
    "\n",
    "def leibniz_pi_numpy_indexing(n):\n",
    "    \"\"\"\n",
    "    Compute the sum of the first n terms of the Leibniz formula for π/4\n",
    "    using NumPy arrays and array indexing (positive and negative terms separately).\n",
    "    \n",
    "    Parameters:\n",
    "        n (int): Number of terms to include in the series.\n",
    "        \n",
    "    Returns:\n",
    "        float: Approximation of π/4 using n terms.\n",
    "    \"\"\"\n",
    "    k = np.arange(n)                     # indices 0, 1, 2, ..., n-1\n",
    "    terms = ((-1) ** k) / (2*k + 1)      # Leibniz terms\n",
    "    \n",
    "    # Separate sums via slicing\n",
    "    positive_sum = np.sum(terms[::2])    # even indices (k=0,2,4,...) → positive\n",
    "    negative_sum = np.sum(terms[1::2])   # odd indices (k=1,3,5,...) → negative\n",
    "    \n",
    "    return positive_sum + negative_sum\n"
   ]
  },
  {
   "cell_type": "markdown",
   "metadata": {},
   "source": [
    "### LLM Suggestion:"
   ]
  },
  {
   "cell_type": "code",
   "execution_count": null,
   "metadata": {},
   "outputs": [],
   "source": [
    "import numpy as np\n",
    "\n",
    "def leibniz_pi_numpy_indexing(n: int) -> float:\n",
    "    \"\"\"\n",
    "    Approximate π/4 using NumPy by summing even (positive) and odd (negative)\n",
    "    terms separately via array slicing.\n",
    "    \"\"\"\n",
    "    if n <= 0:\n",
    "        return 0.0\n",
    "    k = np.arange(n, dtype=np.int64)\n",
    "    denom = 2.0*k + 1.0\n",
    "    pos = np.add.reduce(1.0 / denom[::2])   # k = 0,2,4,...\n",
    "    neg = np.add.reduce(1.0 / denom[1::2])  # k = 1,3,5,...\n",
    "    return pos - neg\n"
   ]
  },
  {
   "cell_type": "markdown",
   "metadata": {},
   "source": [
    "LLM Discription :\n",
    "This variant explicitly separates the Leibniz series into even-indexed positive terms and odd-indexed negative terms using NumPy slicing, then sums each part and subtracts. It avoids costly (-1)**k, keeps the alternating structure clear, and uses vectorized reductions for speed and consistent performance on large \n",
    "𝑛\n",
    "n."
   ]
  },
  {
   "cell_type": "code",
   "execution_count": 30,
   "metadata": {},
   "outputs": [
    {
     "name": "stdout",
     "output_type": "stream",
     "text": [
      "Sum of first 1000 terms (π/4 approximation): 0.7851481634599475\n",
      "Approximation of π: 3.14059265383979\n"
     ]
    }
   ],
   "source": [
    "n = 1000\n",
    "result = leibniz_pi_numpy_indexing(n)\n",
    "print(f\"Sum of first {n} terms (π/4 approximation): {result}\")\n",
    "print(f\"Approximation of π: {4 * result}\")\n"
   ]
  },
  {
   "cell_type": "markdown",
   "metadata": {},
   "source": [
    "### Part J "
   ]
  },
  {
   "cell_type": "code",
   "execution_count": 24,
   "metadata": {},
   "outputs": [],
   "source": [
    "import numpy as np\n",
    "\n",
    "def leibniz_pi_pairs(n):\n",
    "    \"\"\"\n",
    "    Vectorized pair-sum of the first n terms of the Leibniz series for π/4.\n",
    "    Includes the leftover last term when n is odd.\n",
    "    \"\"\"\n",
    "    if n <= 0:\n",
    "        return 0.0\n",
    "\n",
    "    m = n - (n % 2)                     # largest even ≤ n\n",
    "    k = np.arange(0, m, 2, dtype=float) # 0, 2, 4, ...\n",
    "    paired = np.sum(1.0/(2.0*k + 1.0) - 1.0/(2.0*k + 3.0))\n",
    "\n",
    "    if n % 2 == 1:\n",
    "        last = n - 1\n",
    "        paired += ((-1.0)**last) / (2.0*last + 1.0)\n",
    "\n",
    "    return paired\n"
   ]
  },
  {
   "cell_type": "markdown",
   "metadata": {},
   "source": [
    "### LLM Suggestion:"
   ]
  },
  {
   "cell_type": "code",
   "execution_count": null,
   "metadata": {},
   "outputs": [],
   "source": [
    "import numpy as np\n",
    "\n",
    "def leibniz_pi_pairs(n: int) -> float:\n",
    "    \"\"\"\n",
    "    Approximate π/4 using paired terms of the Leibniz series.\n",
    "    Groups terms (1/(2k+1) - 1/(2k+3)) to reduce cancellation error.\n",
    "    \"\"\"\n",
    "    if n <= 0:\n",
    "        return 0.0\n",
    "    m = n - (n % 2)                     # largest even ≤ n\n",
    "    k = np.arange(0, m, 2, dtype=np.float64)\n",
    "    paired = np.add.reduce(1.0/(2*k+1) - 1.0/(2*k+3))\n",
    "    if n % 2:                           # leftover odd term\n",
    "        paired -= 1.0 / (2*(n-1) + 1.0)\n",
    "    return paired\n"
   ]
  },
  {
   "cell_type": "markdown",
   "metadata": {},
   "source": [
    "LLM Discription: This implementation improves stability by grouping consecutive positive and negative terms as pairs before summation, reducing floating-point cancellation. It is generally faster and more accurate than summing terms one by one, especially for large \n",
    "n. The leftover odd term is handled explicitly, making the function both efficient and numerically robust."
   ]
  },
  {
   "cell_type": "code",
   "execution_count": 25,
   "metadata": {},
   "outputs": [
    {
     "name": "stdout",
     "output_type": "stream",
     "text": [
      "Sum of first 1000 terms (π/4 approximation, paired): 0.7851481634599485\n",
      "Approximation of π: 3.140592653839794\n"
     ]
    }
   ],
   "source": [
    "n = 1000\n",
    "result = leibniz_pi_pairs(n)\n",
    "print(f\"Sum of first {n} terms (π/4 approximation, paired): {result}\")\n",
    "print(f\"Approximation of π: {4 * result}\")\n"
   ]
  },
  {
   "cell_type": "markdown",
   "metadata": {},
   "source": [
    "## Problem 3 "
   ]
  },
  {
   "cell_type": "code",
   "execution_count": 26,
   "metadata": {},
   "outputs": [
    {
     "name": "stdout",
     "output_type": "stream",
     "text": [
      "n = 5000\n",
      "----------------------------------------------------------------------------------------\n",
      "Function                 π approx    Abs error   t_med [ms]  t_mean [ms]  t_best [ms]\n",
      "----------------------------------------------------------------------------------------\n",
      "H  leibniz_pi_pairs      3.141393     0.000200        0.007        0.007        0.007\n",
      "F  leibniz_pi_numpy      3.141393     0.000200        0.025        0.025        0.025\n",
      "G  leibniz_pi_npy_idx     3.141393     0.000200        0.027        0.027        0.026\n",
      "I  leibniz_pi            3.141393     0.000200        0.185        0.185        0.184\n",
      "B  leibniz_pi_pow        3.141393     0.000200        0.195        0.196        0.194\n",
      "A  leibniz_pi_mod        3.141393     0.000200        0.258        0.261        0.252\n",
      "C  leibniz_pi_list       3.141393     0.000200        0.284        0.284        0.282\n",
      "E  leibniz_pi_dict       3.141393     0.000200        0.314        0.315        0.312\n",
      "D  leibniz_pi_set        3.141393     0.000200        0.385        0.385        0.378\n"
     ]
    }
   ],
   "source": [
    "import time\n",
    "import math\n",
    "import statistics as stats\n",
    "import numpy as np\n",
    "\n",
    "# -----------------------------\n",
    "# Benchmarking helpers\n",
    "# -----------------------------\n",
    "\n",
    "def abs_error_vs_pi(sum_over_4: float) -> float:\n",
    "    \"\"\"Absolute error of 4*sum_over_4 against math.pi.\"\"\"\n",
    "    return abs(4.0 * float(sum_over_4) - math.pi)\n",
    "\n",
    "def time_per_call(fn, n, repeats=7, number=2000):\n",
    "    \"\"\"\n",
    "    Time a function by calling it `number` times in each of `repeats` rounds.\n",
    "    Returns (median, mean, best) per-call time in seconds.\n",
    "    \"\"\"\n",
    "    times = []\n",
    "    for _ in range(repeats):\n",
    "        t0 = time.perf_counter()\n",
    "        for _ in range(number):\n",
    "            fn(n)\n",
    "        t1 = time.perf_counter()\n",
    "        times.append((t1 - t0) / number)\n",
    "    return stats.median(times), stats.mean(times), min(times)\n",
    "\n",
    "# -----------------------------\n",
    "# Run & report\n",
    "# -----------------------------\n",
    "\n",
    "def main(n=10000):\n",
    "    funcs = [\n",
    "        (\"A  leibniz_pi_mod\", leibniz_pi_mod),\n",
    "        (\"B  leibniz_pi_pow\", leibniz_pi_pow),\n",
    "        (\"C  leibniz_pi_list\", leibniz_pi_list),\n",
    "        (\"D  leibniz_pi_set\", leibniz_pi_set),\n",
    "        (\"E  leibniz_pi_dict\", leibniz_pi_dict),\n",
    "        (\"F  leibniz_pi_numpy\", leibniz_pi_numpy),\n",
    "        (\"G  leibniz_pi_npy_idx\", leibniz_pi_numpy_indexing),\n",
    "        (\"H  leibniz_pi_pairs\", leibniz_pi_pairs),\n",
    "        (\"I  leibniz_pi\", leibniz_pi),\n",
    "    ]\n",
    "\n",
    "    rows = []\n",
    "    for name, fn in funcs:\n",
    "        s_over_4 = fn(n)\n",
    "        approx_pi = 4.0 * float(s_over_4)\n",
    "        err = abs_error_vs_pi(s_over_4)\n",
    "        med_t, mean_t, best_t = time_per_call(fn, n, repeats=7, number=2000)\n",
    "        rows.append({\n",
    "            \"name\": name,\n",
    "            \"pi\": approx_pi,\n",
    "            \"err\": err,\n",
    "            \"t_med\": med_t,\n",
    "            \"t_mean\": mean_t,\n",
    "            \"t_best\": best_t,\n",
    "        })\n",
    "\n",
    "    # Sort by median time ascending\n",
    "    rows.sort(key=lambda r: r[\"t_med\"])\n",
    "\n",
    "    # Pretty print\n",
    "    print(f\"n = {n}\")\n",
    "    print(\"-\" * 88)\n",
    "    print(f\"{'Function':20} {'π approx':>12} {'Abs error':>12} \"\n",
    "          f\"{'t_med [ms]':>12} {'t_mean [ms]':>12} {'t_best [ms]':>12}\")\n",
    "    print(\"-\" * 88)\n",
    "    for r in rows:\n",
    "        print(f\"{r['name']:20} \"\n",
    "              f\"{r['pi']:12.6f} {r['err']:12.6f} \"\n",
    "              f\"{r['t_med']*1e3:12.3f} {r['t_mean']*1e3:12.3f} {r['t_best']*1e3:12.3f}\")\n",
    "\n",
    "if __name__ == \"__main__\":\n",
    "    main(n=5000)\n"
   ]
  },
  {
   "cell_type": "markdown",
   "metadata": {},
   "source": [
    "Fastest: leibniz_pi_pairs (≈ 0.006 ms median).\n",
    "Next best are the NumPy versions (leibniz_pi_numpy, leibniz_pi_npy_idx) at ≈ 0.025–0.026 ms.\n",
    "Pure-Python loops and data-structure versions are much slower (≈ 0.23–0.77 ms).\n",
    "\n",
    "Most accurate: For a fixed n they’re all essentially equally accurate—they evaluate the same series and the dominant error is the series’ slow convergence (≈O(1/n)), not implementation details. Tiny FP-rounding differences are dwarfed by the truncation error at n=5000.\n",
    "\n",
    "Clearest: The simple loop versions are the easiest to read/grade:\n",
    "\n",
    "with modulo (%) to flip the sign, or with (-1)**k. These make the alternating structure explicit and are great for pedagogy.\n",
    "\n",
    "Why leibniz_pi_pairs wins: Pairing terms algebraically turns the series non-alternating, halves the number of loop iterations, and reduces cancellation—so you get less overhead and slightly better numerical behavior. Also, the function doesn’t need to make big arrays like the NumPy versions do—it just runs with a tiny memory footprint.\n",
    "\n",
    "What I would use to compute π (given these options):\n",
    "\n",
    "If I actually wanted to calculate π using these, I’d use leibniz_pi_pairs because it’s faster, more stable, and doesn’t waste memory.\n",
    "\n",
    "But if the goal is teaching or showing how the formula works, I’d start with the simple loop version ((-1)**k or k % 2 for the sign), since it’s easier to read. Then I’d point out that the paired version is like the “optimized” one.\n",
    "\n",
    "I’d avoid set/dict for numeric summation: they add hashing overhead, and sets lose order (can change rounding behavior on other platforms/Pythons even if your run matched)."
   ]
  },
  {
   "cell_type": "markdown",
   "metadata": {},
   "source": [
    "### LLM Suggestion:\n"
   ]
  },
  {
   "cell_type": "code",
   "execution_count": 31,
   "metadata": {},
   "outputs": [
    {
     "name": "stdout",
     "output_type": "stream",
     "text": [
      "n = 5000\n",
      "--------------------------------------------------------------------------------------------------\n",
      "Function                 π approx    Abs err   med [µs]   MAD [µs]  x speedup      N\n",
      "--------------------------------------------------------------------------------------------------\n",
      "H  leibniz_pi_pairs      3.141393   0.000200       6.86       0.08       1.00  65536\n",
      "F  leibniz_pi_numpy      3.141393   0.000200      25.14       0.36       0.27  16384\n",
      "G  leibniz_pi_npy_idx     3.141393   0.000200      27.87       0.47       0.25  16384\n",
      "I  leibniz_pi            3.141393   0.000200     187.80       1.57       0.04   2048\n",
      "B  leibniz_pi_pow        3.141393   0.000200     197.79       2.20       0.03   2048\n",
      "A  leibniz_pi_mod        3.141393   0.000200     270.60       7.01       0.03   1024\n",
      "C  leibniz_pi_list       3.141393   0.000200     284.70       1.24       0.02   1024\n",
      "E  leibniz_pi_dict       3.141393   0.000200     318.00       1.66       0.02   1024\n",
      "D  leibniz_pi_set        3.141393   0.000200     384.27       2.05       0.02   1024\n"
     ]
    }
   ],
   "source": [
    "import math, time, statistics as st\n",
    "\n",
    "def err_pi(sum_over_4): \n",
    "    return abs(4.0*float(sum_over_4) - math.pi)\n",
    "\n",
    "def bench(fn, n, repeats=7, target_s=0.25):\n",
    "    \"\"\"Warm up, auto-calibrate inner loop to ~target_s, then return median sec/call.\"\"\"\n",
    "    fn(n)  # warm-up\n",
    "    # calibrate inner calls so a repeat lasts ~target_s\n",
    "    inner = 1\n",
    "    while True:\n",
    "        t0 = time.perf_counter()\n",
    "        for _ in range(inner): fn(n)\n",
    "        dt = time.perf_counter() - t0\n",
    "        if dt >= target_s or inner >= 200_000: break\n",
    "        inner *= 2\n",
    "    per = []\n",
    "    for _ in range(repeats):\n",
    "        t0 = time.perf_counter()\n",
    "        for _ in range(inner): fn(n)\n",
    "        per.append( (time.perf_counter()-t0) / inner )\n",
    "    med = st.median(per); mad = st.median(abs(x-med) for x in per)\n",
    "    return med, mad, inner\n",
    "\n",
    "def main(n=5000):\n",
    "    funcs = [\n",
    "        (\"A  leibniz_pi_mod\", leibniz_pi_mod),\n",
    "        (\"B  leibniz_pi_pow\", leibniz_pi_pow),\n",
    "        (\"C  leibniz_pi_list\", leibniz_pi_list),\n",
    "        (\"D  leibniz_pi_set\", leibniz_pi_set),\n",
    "        (\"E  leibniz_pi_dict\", leibniz_pi_dict),\n",
    "        (\"F  leibniz_pi_numpy\", leibniz_pi_numpy),\n",
    "        (\"G  leibniz_pi_npy_idx\", leibniz_pi_numpy_indexing),\n",
    "        (\"H  leibniz_pi_pairs\", leibniz_pi_pairs),\n",
    "        (\"I  leibniz_pi\", leibniz_pi),\n",
    "    ]\n",
    "\n",
    "    rows = []\n",
    "    for name, fn in funcs:\n",
    "        s4 = fn(n)\n",
    "        rows.append({\n",
    "            \"name\": name,\n",
    "            \"pi\": 4.0*float(s4),\n",
    "            \"err\": err_pi(s4),\n",
    "            **dict(zip((\"t_med\",\"t_mad\",\"inner\"), bench(fn,n)))\n",
    "        })\n",
    "\n",
    "    rows.sort(key=lambda r: r[\"t_med\"])\n",
    "    baseline = rows[0][\"t_med\"]\n",
    "\n",
    "    print(f\"n = {n}\")\n",
    "    print(\"-\"*98)\n",
    "    print(f\"{'Function':20} {'π approx':>12} {'Abs err':>10} {'med [µs]':>10} {'MAD [µs]':>10} {'x speedup':>10} {'N':>6}\")\n",
    "    print(\"-\"*98)\n",
    "    for r in rows:\n",
    "        speed = baseline / r[\"t_med\"] if r[\"t_med\"] else float(\"inf\")\n",
    "        print(f\"{r['name']:20} {r['pi']:12.6f} {r['err']:10.6f} \"\n",
    "              f\"{r['t_med']*1e6:10.2f} {r['t_mad']*1e6:10.2f} {speed:10.2f} {r['inner']:6d}\")\n",
    "\n",
    "if __name__ == \"__main__\":\n",
    "    main(5000)\n"
   ]
  },
  {
   "cell_type": "markdown",
   "metadata": {},
   "source": [
    "LLM discription :I added a quick warm-up and auto-calibration so each repeat runs ~0.25 s (fairer timing across slow/fast methods), plus median±MAD and a speedup column for clearer comparison. Correctness is computed once per method (outside the timed region), and the table stays compact and easy to read."
   ]
  },
  {
   "cell_type": "markdown",
   "metadata": {},
   "source": [
    "## Problem 4 "
   ]
  },
  {
   "cell_type": "code",
   "execution_count": 28,
   "metadata": {},
   "outputs": [
    {
     "data": {
      "image/png": "[encoded data removed]",
      "text/plain": [
       "<Figure size 600x600 with 1 Axes>"
      ]
     },
     "metadata": {},
     "output_type": "display_data"
    }
   ],
   "source": [
    "import matplotlib.pyplot as plt\n",
    "import numpy as np\n",
    "import matplotlib.pyplot as plt\n",
    "\n",
    "# -----  plot -----\n",
    "# n from 10 to 100000, unique, even (for pairs), and >= 2\n",
    "n_vals = np.unique(np.logspace(1, 5, 180, dtype=int))\n",
    "n_even = np.where(n_vals % 2 == 1, n_vals - 1, n_vals)\n",
    "n_even = np.where(n_even < 2, 2, n_even)\n",
    "\n",
    "# errors vs π/4 (to match the function)\n",
    "target = np.pi / 4\n",
    "errors = np.abs([leibniz_pi_pairs(n) - target for n in n_even])\n",
    "\n",
    "# ~1/n reference line (scaled to mid-range for visibility)\n",
    "ref = (1.0 / n_vals) * errors[len(errors)//2] * n_even[len(errors)//2]\n",
    "\n",
    "plt.figure(figsize=(3, 3), dpi=200)\n",
    "\n",
    "# main curve with small markers (not on every point to avoid clutter)\n",
    "plt.loglog(n_even, errors, linewidth=1.3, marker='o', markersize=2,\n",
    "           markevery=max(1, len(n_even)//18), label=\"Paired Leibniz (π/4)\")\n",
    "\n",
    "# reference slope guide\n",
    "plt.loglog(n_vals, ref, linestyle='--', linewidth=1.0, label=\"~ 1/n reference\")\n",
    "\n",
    "# labels & title\n",
    "plt.xlabel(\"Number of terms, n\", fontsize=10)\n",
    "plt.ylabel(\"Absolute error\", fontsize=10)\n",
    "plt.title(\"Convergence of Leibniz formula (paired terms)\", fontsize=10)\n",
    "\n",
    "# tidy legend & grid\n",
    "plt.legend(loc=\"upper right\", frameon=True, fontsize=5)\n",
    "plt.grid(True, which=\"both\", linewidth=0.5, alpha=0.6)\n",
    "\n",
    "# trim margins and layout\n",
    "plt.margins(x=0.02, y=0.05)\n",
    "plt.tight_layout()\n",
    "plt.show()"
   ]
  },
  {
   "cell_type": "markdown",
   "metadata": {},
   "source": [
    "It shows that the error of the paired-term version of the Leibniz formula gets smaller at a rate close to 1/n. On the log–log graph, the error line goes down in almost a straight line, and it matches the dashed 1/n reference line very closely. This means that as you add more terms, the error decreases in proportion to the number of terms you use. The paired version is more efficient than the standard alternating series because it combines terms in a way that makes the series converge faster and more smoothly."
   ]
  },
  {
   "cell_type": "markdown",
   "metadata": {},
   "source": [
    "### LLM Suggestion:"
   ]
  },
  {
   "cell_type": "code",
   "execution_count": 32,
   "metadata": {},
   "outputs": [
    {
     "data": {
      "image/png": "[encoded data removed]",
      "text/plain": [
       "<Figure size 400x400 with 1 Axes>"
      ]
     },
     "metadata": {},
     "output_type": "display_data"
    }
   ],
   "source": [
    "import numpy as np\n",
    "import matplotlib.pyplot as plt\n",
    "import math\n",
    "\n",
    "# n from 10 to 1e5; make even for pairs; enforce n>=2\n",
    "n_vals  = np.unique(np.logspace(1, 5, 180, dtype=int))\n",
    "n_even  = np.maximum(2, n_vals - (n_vals % 2))\n",
    "\n",
    "# absolute error vs π (functions return π/4 → multiply by 4)\n",
    "errors = np.abs([4.0*leibniz_pi_pairs(n) - math.pi for n in n_even])\n",
    "\n",
    "# ~1/n reference line anchored at a mid sample\n",
    "mid = len(n_even)//2\n",
    "c   = errors[mid] * n_even[mid]       # so that c/n matches error at the mid point\n",
    "ref = c / n_even\n",
    "\n",
    "plt.figure(figsize=(2, 2), dpi=200)\n",
    "plt.loglog(n_even, errors, linewidth=1.0, marker='o', markersize=2,\n",
    "           markevery=max(1, len(n_even)//18), label=\"Paired Leibniz (π)\")\n",
    "\n",
    "plt.loglog(n_even, ref, '--', linewidth=0.8, label=\"~1/n reference\")\n",
    "\n",
    "plt.xlabel(\"Number of terms (n)\", fontsize=8)\n",
    "plt.ylabel(r\"$|\\hat{\\pi}(n)-\\pi|$\", fontsize=8)\n",
    "plt.legend(loc=\"upper right\", fontsize=6, frameon=True)\n",
    "plt.grid(True, which=\"both\", linewidth=0.4, alpha=0.6)\n",
    "plt.margins(x=0.02, y=0.05)\n",
    "plt.tight_layout()\n",
    "plt.show()\n"
   ]
  },
  {
   "cell_type": "markdown",
   "metadata": {},
   "source": [
    "I switched the error to be computed directly against π (multiplying the function output by 4) and reduced the figure to 2″×2″ to match the “small, legible” guideline; I also anchored the ~1/n guide at a mid-sample so the slope is visible without obscuring the data. This keeps labels unambiguous, removes duplicate imports, and produces a compact, publication-style convergence plot."
   ]
  },
  {
   "cell_type": "markdown",
   "metadata": {},
   "source": [
    "## Problem 5"
   ]
  },
  {
   "cell_type": "markdown",
   "metadata": {},
   "source": [
    "If I was using MATLAB instead of Python, I wouldn’t really change the formula itself, but the way I write it would be different. MATLAB works better with vectors, so instead of using loops, I could just make a vector k = 0:n-1 and then write something like sum(((-1).^k)./(2*k+1)). That would be shorter and faster. \n",
    "MATLAB also starts counting from 1 instead of 0, so I would have to be careful with indexing. \n",
    "For timing, MATLAB uses tic and toc instead of Python’s time functions. \n",
    "If I needed more accuracy, I could use MATLAB’s symbolic math toolbox. Overall, the idea is the same, but in MATLAB I would try to use more vectorized code since that’s what it’s best at. (MATLAB loops are slower compared to Python’s loops, so vectorization matters even more in MATLAB.)"
   ]
  },
  {
   "cell_type": "markdown",
   "metadata": {},
   "source": [
    "matlab sample: \n",
    "```matlab\n",
    "% Basic vectorized version of Leibniz formula (π/4)\n",
    "n = 10000;                   % number of terms\n",
    "k = 0:n-1;                   % vector of indices\n",
    "approx_pi_over_4 = sum(((-1).^k) ./ (2*k + 1));\n",
    "approx_pi = 4 * approx_pi_over_4"
   ]
  },
  {
   "cell_type": "markdown",
   "metadata": {},
   "source": [
    "### LLM Over all Review:\n",
    "\n",
    "The notebook fully satisfies the assignment and shows good engineering judgment, especially with the vectorized and paired implementations. With a handful of polish items—explicit return target, faster sign handling, edge-case guards, a slightly sturdier benchmark, and compact, clearly labeled plots—the submission reads as careful, efficient, and numerically aware. I would keep paired NumPy as the primary method for speed and stability, use the list/generator version as the clear baseline, and retain set/dict only to demonstrate the requested alternatives."
   ]
  }
 ],
 "metadata": {
  "kernelspec": {
   "display_name": "base",
   "language": "python",
   "name": "python3"
  },
  "language_info": {
   "codemirror_mode": {
    "name": "ipython",
    "version": 3
   },
   "file_extension": ".py",
   "mimetype": "text/x-python",
   "name": "python",
   "nbconvert_exporter": "python",
   "pygments_lexer": "ipython3",
   "version": "3.12.2"
  }
 },
 "nbformat": 4,
 "nbformat_minor": 2
}
