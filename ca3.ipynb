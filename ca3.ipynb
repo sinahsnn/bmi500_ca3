{
 "cells": [
  {
   "cell_type": "markdown",
   "metadata": {},
   "source": [
    "# Homework 3 "
   ]
  },
  {
   "cell_type": "markdown",
   "metadata": {},
   "source": [
    "## Question 1"
   ]
  },
  {
   "cell_type": "code",
   "execution_count": 1,
   "metadata": {},
   "outputs": [],
   "source": [
    "def leibniz_pi(n):\n",
    "    \"\"\"\n",
    "    Compute the sum of the first n terms of the Leibniz formula for π/4.\n",
    "    \n",
    "    Parameters:\n",
    "        n (int): Number of terms to include in the series.\n",
    "        \n",
    "    Returns:\n",
    "        float: Approximation of π/4 using n terms of the series.\n",
    "    \"\"\"\n",
    "    total = 0.0\n",
    "    for k in range(n):\n",
    "        total += (-1)**k / (2*k + 1)\n",
    "    return total\n"
   ]
  },
  {
   "cell_type": "code",
   "execution_count": 5,
   "metadata": {},
   "outputs": [
    {
     "name": "stdout",
     "output_type": "stream",
     "text": [
      "sum of the first 1000 terms: 0.7851481634599485\n",
      "Approximation of π: 3.140592653839794\n"
     ]
    }
   ],
   "source": [
    "# Compute π approximation with 1,000,000 terms\n",
    "n = 1000\n",
    "approx_pi = leibniz_pi(n)\n",
    "print(f\"sum of the first {n} terms: {approx_pi}\")\n",
    "print(f\"Approximation of π: {4 * approx_pi}\")"
   ]
  },
  {
   "cell_type": "markdown",
   "metadata": {},
   "source": [
    "## Question 2"
   ]
  },
  {
   "cell_type": "markdown",
   "metadata": {},
   "source": [
    "### Part A"
   ]
  },
  {
   "cell_type": "code",
   "execution_count": 6,
   "metadata": {},
   "outputs": [],
   "source": [
    "def leibniz_pi_mod(n):\n",
    "    \"\"\"\n",
    "    Compute the sum of the first n terms of the Leibniz formula for π/4\n",
    "    using a for-loop and an if-statement with the modulo operator.\n",
    "    \n",
    "    Parameters:\n",
    "        n (int): Number of terms to include in the series.\n",
    "        \n",
    "    Returns:\n",
    "        float: Approximation of π/4 using n terms.\n",
    "    \"\"\"\n",
    "    total = 0.0\n",
    "    for k in range(n):\n",
    "        term = 1 / (2*k + 1)\n",
    "        if k % 2 == 0:   # even index -> add\n",
    "            total += term\n",
    "        else:            # odd index -> subtract\n",
    "            total -= term\n",
    "    return total\n"
   ]
  },
  {
   "cell_type": "code",
   "execution_count": 7,
   "metadata": {},
   "outputs": [
    {
     "name": "stdout",
     "output_type": "stream",
     "text": [
      "Sum of first 1000 terms (π/4 approximation): 0.7851481634599485\n",
      "Approximation of π: 3.140592653839794\n"
     ]
    }
   ],
   "source": [
    "n = 1000\n",
    "result = leibniz_pi_mod(n)\n",
    "print(f\"Sum of first {n} terms (π/4 approximation): {result}\")\n",
    "print(f\"Approximation of π: {4 * result}\")"
   ]
  },
  {
   "cell_type": "markdown",
   "metadata": {},
   "source": [
    "### Part B"
   ]
  },
  {
   "cell_type": "code",
   "execution_count": 8,
   "metadata": {},
   "outputs": [],
   "source": [
    "def leibniz_pi_pow(n):\n",
    "    \"\"\"\n",
    "    Compute the sum of the first n terms of the Leibniz formula for π/4\n",
    "    using a for-loop and (-1)**k to determine the sign of each term.\n",
    "    \n",
    "    Parameters:\n",
    "        n (int): Number of terms to include in the series.\n",
    "        \n",
    "    Returns:\n",
    "        float: Approximation of π/4 using n terms.\n",
    "    \"\"\"\n",
    "    total = 0.0\n",
    "    for k in range(n):\n",
    "        total += ((-1) ** k) / (2*k + 1)\n",
    "    return total\n"
   ]
  },
  {
   "cell_type": "code",
   "execution_count": 9,
   "metadata": {},
   "outputs": [
    {
     "name": "stdout",
     "output_type": "stream",
     "text": [
      "Sum of first 1000 terms (π/4 approximation): 0.7851481634599485\n",
      "Approximation of π: 3.140592653839794\n"
     ]
    }
   ],
   "source": [
    "n = 1000\n",
    "result = leibniz_pi_pow(n)\n",
    "print(f\"Sum of first {n} terms (π/4 approximation): {result}\")\n",
    "print(f\"Approximation of π: {4 * result}\")\n"
   ]
  },
  {
   "cell_type": "markdown",
   "metadata": {},
   "source": [
    "### Part C "
   ]
  },
  {
   "cell_type": "code",
   "execution_count": 10,
   "metadata": {},
   "outputs": [],
   "source": [
    "def leibniz_pi_list(n):\n",
    "    \"\"\"\n",
    "    Compute the sum of the first n terms of the Leibniz formula for π/4\n",
    "    by constructing a Python list and summing it.\n",
    "    \n",
    "    Parameters:\n",
    "        n (int): Number of terms to include in the series.\n",
    "        \n",
    "    Returns:\n",
    "        float: Approximation of π/4 using n terms.\n",
    "    \"\"\"\n",
    "    terms = [((-1) ** k) / (2*k + 1) for k in range(n)]\n",
    "    return sum(terms)\n"
   ]
  },
  {
   "cell_type": "code",
   "execution_count": 11,
   "metadata": {},
   "outputs": [
    {
     "name": "stdout",
     "output_type": "stream",
     "text": [
      "Sum of first 1000 terms (π/4 approximation): 0.7851481634599485\n",
      "Approximation of π: 3.140592653839794\n"
     ]
    }
   ],
   "source": [
    "n = 1000\n",
    "result = leibniz_pi_list(n)\n",
    "print(f\"Sum of first {n} terms (π/4 approximation): {result}\")\n",
    "print(f\"Approximation of π: {4 * result}\")\n"
   ]
  },
  {
   "cell_type": "markdown",
   "metadata": {},
   "source": [
    "### Part D "
   ]
  },
  {
   "cell_type": "code",
   "execution_count": 12,
   "metadata": {},
   "outputs": [],
   "source": [
    "def leibniz_pi_set(n):\n",
    "    \"\"\"\n",
    "    Compute the sum of the first n terms of the Leibniz formula for π/4\n",
    "    by constructing a Python set and summing it.\n",
    "    \n",
    "    Parameters:\n",
    "        n (int): Number of terms to include in the series.\n",
    "        \n",
    "    Returns:\n",
    "        float: Approximation of π/4 using n terms.\n",
    "    \"\"\"\n",
    "    terms = {((-1) ** k) / (2*k + 1) for k in range(n)}\n",
    "    return sum(terms)\n"
   ]
  },
  {
   "cell_type": "code",
   "execution_count": 13,
   "metadata": {},
   "outputs": [
    {
     "name": "stdout",
     "output_type": "stream",
     "text": [
      "Sum of first 1000 terms (π/4 approximation): 0.7851481634599495\n",
      "Approximation of π: 3.140592653839798\n"
     ]
    }
   ],
   "source": [
    "n = 1000\n",
    "result = leibniz_pi_set(n)\n",
    "print(f\"Sum of first {n} terms (π/4 approximation): {result}\")\n",
    "print(f\"Approximation of π: {4 * result}\")\n"
   ]
  },
  {
   "cell_type": "markdown",
   "metadata": {},
   "source": [
    "### Part E "
   ]
  },
  {
   "cell_type": "code",
   "execution_count": 14,
   "metadata": {},
   "outputs": [],
   "source": [
    "def leibniz_pi_dict(n):\n",
    "    \"\"\"\n",
    "    Compute the sum of the first n terms of the Leibniz formula for π/4\n",
    "    by constructing a Python dictionary and summing its values.\n",
    "    \n",
    "    Parameters:\n",
    "        n (int): Number of terms to include in the series.\n",
    "        \n",
    "    Returns:\n",
    "        float: Approximation of π/4 using n terms.\n",
    "    \"\"\"\n",
    "    terms = {k: ((-1) ** k) / (2*k + 1) for k in range(n)}\n",
    "    return sum(terms.values())\n"
   ]
  },
  {
   "cell_type": "code",
   "execution_count": 15,
   "metadata": {},
   "outputs": [
    {
     "name": "stdout",
     "output_type": "stream",
     "text": [
      "Sum of first 1000 terms (π/4 approximation): 0.7851481634599485\n",
      "Approximation of π: 3.140592653839794\n"
     ]
    }
   ],
   "source": [
    "n = 1000\n",
    "result = leibniz_pi_dict(n)\n",
    "print(f\"Sum of first {n} terms (π/4 approximation): {result}\")\n",
    "print(f\"Approximation of π: {4 * result}\")\n"
   ]
  },
  {
   "cell_type": "markdown",
   "metadata": {},
   "source": [
    "### Part F "
   ]
  },
  {
   "cell_type": "code",
   "execution_count": 16,
   "metadata": {},
   "outputs": [],
   "source": [
    "import numpy as np\n",
    "\n",
    "def leibniz_pi_numpy(n):\n",
    "    \"\"\"\n",
    "    Compute the sum of the first n terms of the Leibniz formula for π/4\n",
    "    using a NumPy array.\n",
    "    \n",
    "    Parameters:\n",
    "        n (int): Number of terms to include in the series.\n",
    "        \n",
    "    Returns:\n",
    "        float: Approximation of π/4 using n terms.\n",
    "    \"\"\"\n",
    "    k = np.arange(n)                         # array [0, 1, 2, ..., n-1]\n",
    "    terms = ((-1) ** k) / (2*k + 1)          # vectorized computation\n",
    "    return np.sum(terms)\n"
   ]
  },
  {
   "cell_type": "code",
   "execution_count": 17,
   "metadata": {},
   "outputs": [
    {
     "name": "stdout",
     "output_type": "stream",
     "text": [
      "Sum of first 1000 terms (π/4 approximation): 0.785148163459948\n",
      "Approximation of π: 3.140592653839792\n"
     ]
    }
   ],
   "source": [
    "n = 1000\n",
    "result = leibniz_pi_numpy(n)\n",
    "print(f\"Sum of first {n} terms (π/4 approximation): {result}\")\n",
    "print(f\"Approximation of π: {4 * result}\")\n"
   ]
  },
  {
   "cell_type": "markdown",
   "metadata": {},
   "source": [
    "### Part G "
   ]
  },
  {
   "cell_type": "code",
   "execution_count": 18,
   "metadata": {},
   "outputs": [],
   "source": [
    "import numpy as np\n",
    "\n",
    "def leibniz_pi_numpy_indexing(n):\n",
    "    \"\"\"\n",
    "    Compute the sum of the first n terms of the Leibniz formula for π/4\n",
    "    using NumPy arrays and array indexing (positive and negative terms separately).\n",
    "    \n",
    "    Parameters:\n",
    "        n (int): Number of terms to include in the series.\n",
    "        \n",
    "    Returns:\n",
    "        float: Approximation of π/4 using n terms.\n",
    "    \"\"\"\n",
    "    k = np.arange(n)                     # indices 0, 1, 2, ..., n-1\n",
    "    terms = ((-1) ** k) / (2*k + 1)      # Leibniz terms\n",
    "    \n",
    "    # Separate sums via slicing\n",
    "    positive_sum = np.sum(terms[::2])    # even indices (k=0,2,4,...) → positive\n",
    "    negative_sum = np.sum(terms[1::2])   # odd indices (k=1,3,5,...) → negative\n",
    "    \n",
    "    return positive_sum + negative_sum\n"
   ]
  },
  {
   "cell_type": "code",
   "execution_count": 32,
   "metadata": {},
   "outputs": [
    {
     "name": "stdout",
     "output_type": "stream",
     "text": [
      "Sum of first 1000 terms (π/4 approximation): 0.7851481634599475\n",
      "Approximation of π: 3.14059265383979\n"
     ]
    }
   ],
   "source": [
    "n = 1000\n",
    "result = leibniz_pi_numpy_indexing(n)\n",
    "print(f\"Sum of first {n} terms (π/4 approximation): {result}\")\n",
    "print(f\"Approximation of π: {4 * result}\")\n"
   ]
  },
  {
   "cell_type": "markdown",
   "metadata": {},
   "source": [
    "### Part J "
   ]
  },
  {
   "cell_type": "code",
   "execution_count": 23,
   "metadata": {},
   "outputs": [],
   "source": [
    "import numpy as np\n",
    "\n",
    "def leibniz_pi_pairs(n):\n",
    "    \"\"\"\n",
    "    Vectorized pair-sum of the first n terms of the Leibniz series for π/4.\n",
    "    Includes the leftover last term when n is odd.\n",
    "    \"\"\"\n",
    "    if n <= 0:\n",
    "        return 0.0\n",
    "\n",
    "    m = n - (n % 2)                     # largest even ≤ n\n",
    "    k = np.arange(0, m, 2, dtype=float) # 0, 2, 4, ...\n",
    "    paired = np.sum(1.0/(2.0*k + 1.0) - 1.0/(2.0*k + 3.0))\n",
    "\n",
    "    if n % 2 == 1:\n",
    "        last = n - 1\n",
    "        paired += ((-1.0)**last) / (2.0*last + 1.0)\n",
    "\n",
    "    return paired\n"
   ]
  },
  {
   "cell_type": "code",
   "execution_count": 31,
   "metadata": {},
   "outputs": [
    {
     "name": "stdout",
     "output_type": "stream",
     "text": [
      "Sum of first 1000 terms (π/4 approximation, paired): 0.7851481634599485\n",
      "Approximation of π: 3.140592653839794\n"
     ]
    }
   ],
   "source": [
    "n = 1000\n",
    "result = leibniz_pi_pairs(n)\n",
    "print(f\"Sum of first {n} terms (π/4 approximation, paired): {result}\")\n",
    "print(f\"Approximation of π: {4 * result}\")\n"
   ]
  },
  {
   "cell_type": "markdown",
   "metadata": {},
   "source": [
    "## Problem 3 "
   ]
  },
  {
   "cell_type": "code",
   "execution_count": 34,
   "metadata": {},
   "outputs": [
    {
     "name": "stdout",
     "output_type": "stream",
     "text": [
      "n = 5000\n",
      "----------------------------------------------------------------------------------------\n",
      "Function                 π approx    Abs error   t_med [ms]  t_mean [ms]  t_best [ms]\n",
      "----------------------------------------------------------------------------------------\n",
      "H  leibniz_pi_pairs      3.141393     0.000200        0.006        0.006        0.006\n",
      "F  leibniz_pi_numpy      3.141393     0.000200        0.025        0.025        0.025\n",
      "G  leibniz_pi_npy_idx     3.141393     0.000200        0.026        0.026        0.026\n",
      "A  leibniz_pi_mod        3.141393     0.000200        0.230        0.231        0.229\n",
      "B  leibniz_pi_pow        3.141393     0.000200        0.672        0.673        0.669\n",
      "C  leibniz_pi_list       3.141393     0.000200        0.683        0.683        0.670\n",
      "I  leibniz_pi            3.141393     0.000200        0.691        0.691        0.688\n",
      "E  leibniz_pi_dict       3.141393     0.000200        0.745        0.747        0.739\n",
      "D  leibniz_pi_set        3.141393     0.000200        0.781        0.781        0.777\n"
     ]
    }
   ],
   "source": [
    "import time\n",
    "import math\n",
    "import statistics as stats\n",
    "import numpy as np\n",
    "\n",
    "# -----------------------------\n",
    "# Benchmarking helpers\n",
    "# -----------------------------\n",
    "\n",
    "def abs_error_vs_pi(sum_over_4: float) -> float:\n",
    "    \"\"\"Absolute error of 4*sum_over_4 against math.pi.\"\"\"\n",
    "    return abs(4.0 * float(sum_over_4) - math.pi)\n",
    "\n",
    "def time_per_call(fn, n, repeats=7, number=2000):\n",
    "    \"\"\"\n",
    "    Time a function by calling it `number` times in each of `repeats` rounds.\n",
    "    Returns (median, mean, best) per-call time in seconds.\n",
    "    \"\"\"\n",
    "    times = []\n",
    "    for _ in range(repeats):\n",
    "        t0 = time.perf_counter()\n",
    "        for _ in range(number):\n",
    "            fn(n)\n",
    "        t1 = time.perf_counter()\n",
    "        times.append((t1 - t0) / number)\n",
    "    return stats.median(times), stats.mean(times), min(times)\n",
    "\n",
    "# -----------------------------\n",
    "# Run & report\n",
    "# -----------------------------\n",
    "\n",
    "def main(n=10000):\n",
    "    funcs = [\n",
    "        (\"A  leibniz_pi_mod\", leibniz_pi_mod),\n",
    "        (\"B  leibniz_pi_pow\", leibniz_pi_pow),\n",
    "        (\"C  leibniz_pi_list\", leibniz_pi_list),\n",
    "        (\"D  leibniz_pi_set\", leibniz_pi_set),\n",
    "        (\"E  leibniz_pi_dict\", leibniz_pi_dict),\n",
    "        (\"F  leibniz_pi_numpy\", leibniz_pi_numpy),\n",
    "        (\"G  leibniz_pi_npy_idx\", leibniz_pi_numpy_indexing),\n",
    "        (\"H  leibniz_pi_pairs\", leibniz_pi_pairs),\n",
    "        (\"I  leibniz_pi\", leibniz_pi),\n",
    "    ]\n",
    "\n",
    "    rows = []\n",
    "    for name, fn in funcs:\n",
    "        s_over_4 = fn(n)\n",
    "        approx_pi = 4.0 * float(s_over_4)\n",
    "        err = abs_error_vs_pi(s_over_4)\n",
    "        med_t, mean_t, best_t = time_per_call(fn, n, repeats=7, number=2000)\n",
    "        rows.append({\n",
    "            \"name\": name,\n",
    "            \"pi\": approx_pi,\n",
    "            \"err\": err,\n",
    "            \"t_med\": med_t,\n",
    "            \"t_mean\": mean_t,\n",
    "            \"t_best\": best_t,\n",
    "        })\n",
    "\n",
    "    # Sort by median time ascending\n",
    "    rows.sort(key=lambda r: r[\"t_med\"])\n",
    "\n",
    "    # Pretty print\n",
    "    print(f\"n = {n}\")\n",
    "    print(\"-\" * 88)\n",
    "    print(f\"{'Function':20} {'π approx':>12} {'Abs error':>12} \"\n",
    "          f\"{'t_med [ms]':>12} {'t_mean [ms]':>12} {'t_best [ms]':>12}\")\n",
    "    print(\"-\" * 88)\n",
    "    for r in rows:\n",
    "        print(f\"{r['name']:20} \"\n",
    "              f\"{r['pi']:12.6f} {r['err']:12.6f} \"\n",
    "              f\"{r['t_med']*1e3:12.3f} {r['t_mean']*1e3:12.3f} {r['t_best']*1e3:12.3f}\")\n",
    "\n",
    "if __name__ == \"__main__\":\n",
    "    main(n=5000)\n"
   ]
  },
  {
   "cell_type": "markdown",
   "metadata": {},
   "source": [
    "Fastest: leibniz_pi_pairs (≈ 0.006 ms median).\n",
    "Next best are the NumPy versions (leibniz_pi_numpy, leibniz_pi_npy_idx) at ≈ 0.025–0.026 ms.\n",
    "Pure-Python loops and data-structure versions are much slower (≈ 0.23–0.77 ms).\n",
    "\n",
    "Most accurate: For a fixed n they’re all essentially equally accurate—they evaluate the same series and the dominant error is the series’ slow convergence (≈O(1/n)), not implementation details. Tiny FP-rounding differences are dwarfed by the truncation error at n=5000.\n",
    "\n",
    "Clearest: The simple loop versions are the easiest to read/grade:\n",
    "\n",
    "with modulo (%) to flip the sign, or with (-1)**k. These make the alternating structure explicit and are great for pedagogy.\n",
    "\n",
    "Why leibniz_pi_pairs wins: Pairing terms algebraically turns the series non-alternating, halves the number of loop iterations, and reduces cancellation—so you get less overhead and slightly better numerical behavior. Also, the function doesn’t need to make big arrays like the NumPy versions do—it just runs with a tiny memory footprint.\n",
    "\n",
    "What I would use to compute π (given these options):\n",
    "\n",
    "If I actually wanted to calculate π using these, I’d use leibniz_pi_pairs because it’s faster, more stable, and doesn’t waste memory.\n",
    "\n",
    "But if the goal is teaching or showing how the formula works, I’d start with the simple loop version ((-1)**k or k % 2 for the sign), since it’s easier to read. Then I’d point out that the paired version is like the “optimized” one.\n",
    "\n",
    "I’d avoid set/dict for numeric summation: they add hashing overhead, and sets lose order (can change rounding behavior on other platforms/Pythons even if your run matched)."
   ]
  },
  {
   "cell_type": "markdown",
   "metadata": {},
   "source": [
    "## Problem 4 "
   ]
  },
  {
   "cell_type": "code",
   "execution_count": 44,
   "metadata": {},
   "outputs": [
    {
     "data": {
      "image/png": "[encoded data removed]",
      "text/plain": [
       "<Figure size 600x600 with 1 Axes>"
      ]
     },
     "metadata": {},
     "output_type": "display_data"
    }
   ],
   "source": [
    "import matplotlib.pyplot as plt\n",
    "import numpy as np\n",
    "import matplotlib.pyplot as plt\n",
    "\n",
    "# -----  plot -----\n",
    "# n from 10 to 100000, unique, even (for pairs), and >= 2\n",
    "n_vals = np.unique(np.logspace(1, 5, 180, dtype=int))\n",
    "n_even = np.where(n_vals % 2 == 1, n_vals - 1, n_vals)\n",
    "n_even = np.where(n_even < 2, 2, n_even)\n",
    "\n",
    "# errors vs π/4 (to match the function)\n",
    "target = np.pi / 4\n",
    "errors = np.abs([leibniz_pi_pairs(n) - target for n in n_even])\n",
    "\n",
    "# ~1/n reference line (scaled to mid-range for visibility)\n",
    "ref = (1.0 / n_vals) * errors[len(errors)//2] * n_even[len(errors)//2]\n",
    "\n",
    "plt.figure(figsize=(3, 3), dpi=200)\n",
    "\n",
    "# main curve with small markers (not on every point to avoid clutter)\n",
    "plt.loglog(n_even, errors, linewidth=1.3, marker='o', markersize=2,\n",
    "           markevery=max(1, len(n_even)//18), label=\"Paired Leibniz (π/4)\")\n",
    "\n",
    "# reference slope guide\n",
    "plt.loglog(n_vals, ref, linestyle='--', linewidth=1.0, label=\"~ 1/n reference\")\n",
    "\n",
    "# labels & title\n",
    "plt.xlabel(\"Number of terms, n\", fontsize=10)\n",
    "plt.ylabel(\"Absolute error\", fontsize=10)\n",
    "plt.title(\"Convergence of Leibniz formula (paired terms)\", fontsize=10)\n",
    "\n",
    "# tidy legend & grid\n",
    "plt.legend(loc=\"upper right\", frameon=True, fontsize=5)\n",
    "plt.grid(True, which=\"both\", linewidth=0.5, alpha=0.6)\n",
    "\n",
    "# trim margins and layout\n",
    "plt.margins(x=0.02, y=0.05)\n",
    "plt.tight_layout()\n",
    "plt.show()"
   ]
  },
  {
   "cell_type": "markdown",
   "metadata": {},
   "source": [
    "It shows that the error of the paired-term version of the Leibniz formula gets smaller at a rate close to 1/n. On the log–log graph, the error line goes down in almost a straight line, and it matches the dashed 1/n reference line very closely. This means that as you add more terms, the error decreases in proportion to the number of terms you use. The paired version is more efficient than the standard alternating series because it combines terms in a way that makes the series converge faster and more smoothly."
   ]
  },
  {
   "cell_type": "markdown",
   "metadata": {},
   "source": [
    "## Problem 5"
   ]
  },
  {
   "cell_type": "markdown",
   "metadata": {},
   "source": [
    "If I was using MATLAB instead of Python, I wouldn’t really change the formula itself, but the way I write it would be different. MATLAB works better with vectors, so instead of using loops, I could just make a vector k = 0:n-1 and then write something like sum(((-1).^k)./(2*k+1)). That would be shorter and faster. \n",
    "MATLAB also starts counting from 1 instead of 0, so I would have to be careful with indexing. \n",
    "For timing, MATLAB uses tic and toc instead of Python’s time functions. \n",
    "If I needed more accuracy, I could use MATLAB’s symbolic math toolbox. Overall, the idea is the same, but in MATLAB I would try to use more vectorized code since that’s what it’s best at. (MATLAB loops are slower compared to Python’s loops, so vectorization matters even more in MATLAB.)"
   ]
  },
  {
   "cell_type": "markdown",
   "metadata": {},
   "source": [
    "matlab sample: \n",
    "```matlab\n",
    "% Basic vectorized version of Leibniz formula (π/4)\n",
    "n = 10000;                   % number of terms\n",
    "k = 0:n-1;                   % vector of indices\n",
    "approx_pi_over_4 = sum(((-1).^k) ./ (2*k + 1));\n",
    "approx_pi = 4 * approx_pi_over_4"
   ]
  }
 ],
 "metadata": {
  "kernelspec": {
   "display_name": "ecg-byte",
   "language": "python",
   "name": "python3"
  },
  "language_info": {
   "codemirror_mode": {
    "name": "ipython",
    "version": 3
   },
   "file_extension": ".py",
   "mimetype": "text/x-python",
   "name": "python",
   "nbconvert_exporter": "python",
   "pygments_lexer": "ipython3",
   "version": "3.10.16"
  }
 },
 "nbformat": 4,
 "nbformat_minor": 2
}
